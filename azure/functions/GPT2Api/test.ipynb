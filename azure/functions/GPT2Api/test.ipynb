{
 "nbformat": 4,
 "nbformat_minor": 2,
 "metadata": {
  "language_info": {
   "name": "python",
   "codemirror_mode": {
    "name": "ipython",
    "version": 3
   },
   "version": "3.7.6-final"
  },
  "orig_nbformat": 2,
  "file_extension": ".py",
  "mimetype": "text/x-python",
  "name": "python",
  "npconvert_exporter": "python",
  "pygments_lexer": "ipython3",
  "version": 3,
  "kernelspec": {
   "name": "python37664bitgpt2simpleconda915c142ceb4e4e448f606f09da556237",
   "display_name": "Python 3.7.6 64-bit ('gpt2_simple': conda)"
  }
 },
 "cells": [
  {
   "cell_type": "code",
   "execution_count": 1,
   "metadata": {},
   "outputs": [
    {
     "name": "stdout",
     "output_type": "stream",
     "text": "WARNING:tensorflow:\nThe TensorFlow contrib module will not be included in TensorFlow 2.0.\nFor more information, please see:\n  * https://github.com/tensorflow/community/blob/master/rfcs/20180907-contrib-sunset.md\n  * https://github.com/tensorflow/addons\n  * https://github.com/tensorflow/io (for I/O related ops)\nIf you depend on functionality not listed there, please file an issue.\n\n"
    }
   ],
   "source": [
    "import gpt_2_simple as gpt2\n",
    "import os"
   ]
  },
  {
   "cell_type": "code",
   "execution_count": 2,
   "metadata": {},
   "outputs": [],
   "source": [
    "model_name = \"774M\"\n",
    "if not os.path.isdir(os.path.join(\"models\", model_name)):\n",
    "\tgpt2.download_gpt2(model_name=model_name)"
   ]
  },
  {
   "cell_type": "code",
   "execution_count": 3,
   "metadata": {},
   "outputs": [
    {
     "name": "stdout",
     "output_type": "stream",
     "text": "Loading pretrained model models\\774M\\model.ckpt\nINFO:tensorflow:Restoring parameters from models\\774M\\model.ckpt\n"
    }
   ],
   "source": [
    "sess = gpt2.start_tf_sess()\n",
    "gpt2.load_gpt2(sess, model_name=model_name)"
   ]
  },
  {
   "cell_type": "code",
   "execution_count": 18,
   "metadata": {},
   "outputs": [],
   "source": [
    "prefix = \"Shrek was on his way to\"\n",
    "length = 20\n",
    "nsamples = 5\n",
    "generated = gpt2.generate(\n",
    "    sess, \n",
    "    model_name='774M', \n",
    "    top_k=40, \n",
    "    top_p=0.9, \n",
    "    temperature=0.7, \n",
    "    return_as_list=True, \n",
    "    prefix=prefix, \n",
    "    length=length, \n",
    "    nsamples=nsamples\n",
    ")"
   ]
  },
  {
   "cell_type": "code",
   "execution_count": 19,
   "metadata": {},
   "outputs": [
    {
     "data": {
      "text/plain": "['Shrek was on his way to the bathroom. He was wearing a T-shirt that said \"No Smoking\" and a pair of',\n 'Shrek was on his way to the forest when he got a call from Princess Fiona. She was in a bad way, and needed',\n 'Shrek was on his way to the palace and the Royal Guard was waiting for him.\\n\\n\"Goodbye, Princess!\"\\n',\n 'Shrek was on his way to the next town, and in the process of getting there, he fell into the river. He was',\n \"Shrek was on his way to his father's castle, and he was scared. He wanted to go, but his father would not\"]"
     },
     "execution_count": 19,
     "metadata": {},
     "output_type": "execute_result"
    }
   ],
   "source": [
    "generated"
   ]
  },
  {
   "cell_type": "code",
   "execution_count": null,
   "metadata": {},
   "outputs": [],
   "source": []
  }
 ]
}